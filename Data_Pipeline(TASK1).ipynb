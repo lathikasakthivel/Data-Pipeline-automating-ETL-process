{
 "cells": [
  {
   "cell_type": "markdown",
   "id": "2177c0df-510d-48e6-98d2-0baefd9c1385",
   "metadata": {},
   "source": [
    "NECESSARY LIBRARY IMPORTS"
   ]
  },
  {
   "cell_type": "code",
   "execution_count": 1,
   "id": "d27f7fe1-f129-499f-8611-44456e899be1",
   "metadata": {},
   "outputs": [],
   "source": [
    "import pandas as pd\n",
    "import numpy as np\n",
    "from sklearn.preprocessing import StandardScaler, LabelEncoder\n",
    "from sklearn.model_selection import train_test_split"
   ]
  },
  {
   "cell_type": "markdown",
   "id": "27b22f11-4f36-4391-898c-a5a5800aa14f",
   "metadata": {},
   "source": [
    "Extract — Load Data"
   ]
  },
  {
   "cell_type": "code",
   "execution_count": 5,
   "id": "268b5773-182e-42a7-8d43-4bcc6d4887bd",
   "metadata": {},
   "outputs": [
    {
     "name": "stdout",
     "output_type": "stream",
     "text": [
      "   ProductionVolume  ProductionCost  SupplierQuality  DeliveryDelay  \\\n",
      "0               202    13175.403783        86.648534              1   \n",
      "1               535    19770.046093        86.310664              4   \n",
      "2               960    19060.820997        82.132472              0   \n",
      "3               370     5647.606037        87.335966              5   \n",
      "4               206     7472.222236        81.989893              3   \n",
      "\n",
      "   DefectRate  QualityScore  MaintenanceHours  DowntimePercentage  \\\n",
      "0    3.121492     63.463494                 9            0.052343   \n",
      "1    0.819531     83.697818                20            4.908328   \n",
      "2    4.514504     90.350550                 1            2.464923   \n",
      "3    0.638524     67.628690                 8            4.692476   \n",
      "4    3.867784     82.728334                 9            2.746726   \n",
      "\n",
      "   InventoryTurnover  StockoutRate  WorkerProductivity  SafetyIncidents  \\\n",
      "0           8.630515      0.081322           85.042379                0   \n",
      "1           9.296598      0.038486           99.657443                7   \n",
      "2           5.097486      0.002887           92.819264                2   \n",
      "3           3.577616      0.055331           96.887013                8   \n",
      "4           6.851709      0.068047           88.315554                7   \n",
      "\n",
      "   EnergyConsumption  EnergyEfficiency  AdditiveProcessTime  \\\n",
      "0        2419.616785          0.468947             5.551639   \n",
      "1        3915.566713          0.119485             9.080754   \n",
      "2        3392.385362          0.496392             6.562827   \n",
      "3        4652.400275          0.183125             8.097496   \n",
      "4        1581.630332          0.263507             6.406154   \n",
      "\n",
      "   AdditiveMaterialCost  DefectStatus  \n",
      "0            236.439301             1  \n",
      "1            353.957631             1  \n",
      "2            396.189402             1  \n",
      "3            164.135870             1  \n",
      "4            365.708964             1  \n",
      "<class 'pandas.core.frame.DataFrame'>\n",
      "RangeIndex: 3240 entries, 0 to 3239\n",
      "Data columns (total 17 columns):\n",
      " #   Column                Non-Null Count  Dtype  \n",
      "---  ------                --------------  -----  \n",
      " 0   ProductionVolume      3240 non-null   int64  \n",
      " 1   ProductionCost        3240 non-null   float64\n",
      " 2   SupplierQuality       3240 non-null   float64\n",
      " 3   DeliveryDelay         3240 non-null   int64  \n",
      " 4   DefectRate            3240 non-null   float64\n",
      " 5   QualityScore          3240 non-null   float64\n",
      " 6   MaintenanceHours      3240 non-null   int64  \n",
      " 7   DowntimePercentage    3240 non-null   float64\n",
      " 8   InventoryTurnover     3240 non-null   float64\n",
      " 9   StockoutRate          3240 non-null   float64\n",
      " 10  WorkerProductivity    3240 non-null   float64\n",
      " 11  SafetyIncidents       3240 non-null   int64  \n",
      " 12  EnergyConsumption     3240 non-null   float64\n",
      " 13  EnergyEfficiency      3240 non-null   float64\n",
      " 14  AdditiveProcessTime   3240 non-null   float64\n",
      " 15  AdditiveMaterialCost  3240 non-null   float64\n",
      " 16  DefectStatus          3240 non-null   int64  \n",
      "dtypes: float64(12), int64(5)\n",
      "memory usage: 430.4 KB\n",
      "None\n"
     ]
    }
   ],
   "source": [
    "# Load dataset\n",
    "data = pd.read_csv(r\"C:\\Users\\Lathika S\\Downloads\\manufacturing_defect_dataset.csv\")\n",
    "\n",
    "# Check first few records\n",
    "print(data.head())\n",
    "\n",
    "# Overview of dataset\n",
    "print(data.info())\n"
   ]
  },
  {
   "cell_type": "markdown",
   "id": "638f79d4-f088-4b51-9a87-b1cc5367dd3f",
   "metadata": {},
   "source": [
    "Transform — Clean & Preprocess Data"
   ]
  },
  {
   "cell_type": "code",
   "execution_count": 7,
   "id": "cd6a36d6-b9b6-4dcd-b6a1-e4a018f5dcc8",
   "metadata": {},
   "outputs": [
    {
     "name": "stdout",
     "output_type": "stream",
     "text": [
      "ProductionVolume        0\n",
      "ProductionCost          0\n",
      "SupplierQuality         0\n",
      "DeliveryDelay           0\n",
      "DefectRate              0\n",
      "QualityScore            0\n",
      "MaintenanceHours        0\n",
      "DowntimePercentage      0\n",
      "InventoryTurnover       0\n",
      "StockoutRate            0\n",
      "WorkerProductivity      0\n",
      "SafetyIncidents         0\n",
      "EnergyConsumption       0\n",
      "EnergyEfficiency        0\n",
      "AdditiveProcessTime     0\n",
      "AdditiveMaterialCost    0\n",
      "DefectStatus            0\n",
      "dtype: int64\n"
     ]
    }
   ],
   "source": [
    "# Check missing values\n",
    "print(data.isnull().sum())"
   ]
  },
  {
   "cell_type": "code",
   "execution_count": 9,
   "id": "3ee2a42d-7d71-4d28-9bc5-fec9e4d0b333",
   "metadata": {},
   "outputs": [],
   "source": [
    "# Fill missing numerical columns with mean\n",
    "data.fillna(data.mean(), inplace=True)"
   ]
  },
  {
   "cell_type": "code",
   "execution_count": 19,
   "id": "48757c1d-a2f4-40db-93d9-f2130a1d44e5",
   "metadata": {},
   "outputs": [
    {
     "name": "stdout",
     "output_type": "stream",
     "text": [
      "ProductionVolume          int64\n",
      "ProductionCost          float64\n",
      "SupplierQuality         float64\n",
      "DeliveryDelay             int64\n",
      "DefectRate              float64\n",
      "QualityScore            float64\n",
      "MaintenanceHours          int64\n",
      "DowntimePercentage      float64\n",
      "InventoryTurnover       float64\n",
      "StockoutRate            float64\n",
      "WorkerProductivity      float64\n",
      "SafetyIncidents           int64\n",
      "EnergyConsumption       float64\n",
      "EnergyEfficiency        float64\n",
      "AdditiveProcessTime     float64\n",
      "AdditiveMaterialCost    float64\n",
      "DefectStatus              int64\n",
      "dtype: object\n"
     ]
    }
   ],
   "source": [
    "print(data.dtypes)"
   ]
  },
  {
   "cell_type": "code",
   "execution_count": 11,
   "id": "e60f6bc4-263c-4a8d-a5c2-02b4abb9c91b",
   "metadata": {},
   "outputs": [
    {
     "name": "stdout",
     "output_type": "stream",
     "text": [
      "Index([], dtype='object')\n"
     ]
    }
   ],
   "source": [
    "# Find categorical columns\n",
    "categorical_cols = data.select_dtypes(include=['object']).columns\n",
    "print(categorical_cols)\n",
    "\n",
    "# Apply Label Encoding\n",
    "le = LabelEncoder()\n",
    "for col in categorical_cols:\n",
    "    data[col] = le.fit_transform(data[col])"
   ]
  },
  {
   "cell_type": "markdown",
   "id": "23f41bae-f174-4a41-96cf-298cf6ce7ee8",
   "metadata": {},
   "source": [
    "Feature Scaling"
   ]
  },
  {
   "cell_type": "code",
   "execution_count": 17,
   "id": "49ee3424-a09b-4685-8976-6dbc36ad2294",
   "metadata": {},
   "outputs": [],
   "source": [
    "# Separate features and target (assuming 'Defective' is your target column)\n",
    "X = data.drop('DefectStatus', axis=1)\n",
    "y = data['DefectStatus']\n",
    "\n",
    "# Apply Standard Scaling\n",
    "scaler = StandardScaler()\n",
    "X_scaled = scaler.fit_transform(X)\n",
    "\n",
    "# Convert scaled features back to DataFrame\n",
    "X_scaled = pd.DataFrame(X_scaled, columns=X.columns)"
   ]
  },
  {
   "cell_type": "markdown",
   "id": "73c14a35-d821-43f7-92c4-8a44c1a3d598",
   "metadata": {},
   "source": [
    "SPLIT DATASET"
   ]
  },
  {
   "cell_type": "code",
   "execution_count": 21,
   "id": "c6c51727-231e-444a-bdc4-cf48adc0a7c6",
   "metadata": {},
   "outputs": [
    {
     "name": "stdout",
     "output_type": "stream",
     "text": [
      "Train shape: (2592, 16), Test shape: (648, 16)\n"
     ]
    }
   ],
   "source": [
    "X_train, X_test, y_train, y_test = train_test_split(X_scaled, y, test_size=0.2, random_state=42)\n",
    "\n",
    "print(f'Train shape: {X_train.shape}, Test shape: {X_test.shape}')"
   ]
  },
  {
   "cell_type": "markdown",
   "id": "81288097-a4c9-4b6a-9818-1d126ce24279",
   "metadata": {},
   "source": [
    "Load — Save processed data"
   ]
  },
  {
   "cell_type": "code",
   "execution_count": 23,
   "id": "01f1beff-7d1c-40b7-9f1c-c43c04ddaed7",
   "metadata": {},
   "outputs": [
    {
     "name": "stdout",
     "output_type": "stream",
     "text": [
      "\n",
      "Processed data saved successfully as CSV files.\n"
     ]
    }
   ],
   "source": [
    "X_train.to_csv('X_train.csv', index=False)\n",
    "X_test.to_csv('X_test.csv', index=False)\n",
    "y_train.to_csv('y_train.csv', index=False)\n",
    "y_test.to_csv('y_test.csv', index=False)\n",
    "\n",
    "print(\"\\nProcessed data saved successfully as CSV files.\")"
   ]
  },
  {
   "cell_type": "raw",
   "id": "8f1db454-c3e2-4ea1-964e-8549beaed90e",
   "metadata": {},
   "source": [
    "Data Pipeline Summary — Manufacturing Defect Detection\n",
    "\n",
    "What is a Data Pipeline?\n",
    "\n",
    "A data pipeline is an automated workflow that moves raw data through a sequence of steps: extract (collect or load raw data), transform (clean, preprocess, and format the data), and load (store the processed data for analysis or modeling). ETL pipelines are essential in data science projects to prepare clean, usable data for AI and analytics applications.\n",
    "\n",
    "Dataset Used\n",
    "\n",
    "Manufacturing Defect Detection Dataset\n",
    "\n",
    "Columns include production volume, production cost, supplier quality, delivery delay, defect rate, and defect status (categorical target indicating defective or not). There were no missing values initially, but missing value handling was included for completeness.\n",
    "\n",
    "Pipeline Stages in this Project\n",
    "\n",
    "Extract:\n",
    "\n",
    "* Imported libraries such as pandas, numpy, and sklearn\n",
    "* Loaded the dataset using pandas read\\_csv\n",
    "* Inspected the data with head() and info() methods\n",
    "\n",
    "Transform:\n",
    "\n",
    "* Checked for missing values and filled any numerical missing values with the column mean\n",
    "* Encoded categorical variables using LabelEncoder from sklearn\n",
    "* Separated features and target variable\n",
    "* Scaled features using StandardScaler\n",
    "* Split the dataset into training and testing sets with an 80/20 split\n",
    "\n",
    "Load:\n",
    "\n",
    "* Saved the processed train and test datasets as CSV files named X\\_train.csv, X\\_test.csv, y\\_train.csv, and y\\_test.csv\n",
    "\n",
    "How It’s Implemented\n",
    "\n",
    "* A step-by-step Python notebook or script\n",
    "* Used pandas for data handling and scikit-learn for preprocessing\n",
    "* Followed a modular ETL structure to automate preprocessing\n",
    "\n",
    "Deliverable\n",
    "\n",
    "* A working ETL data pipeline in Python\n",
    "* Cleaned, transformed, split, and saved datasets ready for modeling"
   ]
  }
 ],
 "metadata": {
  "kernelspec": {
   "display_name": "Python 3 (ipykernel)",
   "language": "python",
   "name": "python3"
  },
  "language_info": {
   "codemirror_mode": {
    "name": "ipython",
    "version": 3
   },
   "file_extension": ".py",
   "mimetype": "text/x-python",
   "name": "python",
   "nbconvert_exporter": "python",
   "pygments_lexer": "ipython3",
   "version": "3.12.4"
  }
 },
 "nbformat": 4,
 "nbformat_minor": 5
}
